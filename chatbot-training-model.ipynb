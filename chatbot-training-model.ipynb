{
 "cells": [
  {
   "cell_type": "markdown",
   "id": "75cb48e6",
   "metadata": {
    "papermill": {
     "duration": 0.006345,
     "end_time": "2023-02-23T05:12:30.015531",
     "exception": false,
     "start_time": "2023-02-23T05:12:30.009186",
     "status": "completed"
    },
    "tags": []
   },
   "source": [
    "## **Import and load the data file**"
   ]
  },
  {
   "cell_type": "code",
   "execution_count": 1,
   "id": "0d91f7ee",
   "metadata": {
    "execution": {
     "iopub.execute_input": "2023-02-23T05:12:30.045104Z",
     "iopub.status.busy": "2023-02-23T05:12:30.044434Z",
     "iopub.status.idle": "2023-02-23T05:12:32.381685Z",
     "shell.execute_reply": "2023-02-23T05:12:32.379943Z"
    },
    "id": "09b08e4f",
    "outputId": "930efa0a-cb9d-4527-d869-6b432af79909",
    "papermill": {
     "duration": 2.350917,
     "end_time": "2023-02-23T05:12:32.386449",
     "exception": false,
     "start_time": "2023-02-23T05:12:30.035532",
     "status": "completed"
    },
    "tags": []
   },
   "outputs": [
    {
     "name": "stderr",
     "output_type": "stream",
     "text": [
      "[nltk_data] Downloading package punkt to /usr/share/nltk_data...\n",
      "[nltk_data]   Package punkt is already up-to-date!\n"
     ]
    },
    {
     "data": {
      "text/plain": [
       "True"
      ]
     },
     "execution_count": 1,
     "metadata": {},
     "output_type": "execute_result"
    }
   ],
   "source": [
    "import nltk\n",
    "nltk.download('punkt')#Sentence tokenizer"
   ]
  },
  {
   "cell_type": "code",
   "execution_count": 2,
   "id": "d3775770",
   "metadata": {
    "execution": {
     "iopub.execute_input": "2023-02-23T05:12:32.405254Z",
     "iopub.status.busy": "2023-02-23T05:12:32.404732Z",
     "iopub.status.idle": "2023-02-23T05:12:32.411034Z",
     "shell.execute_reply": "2023-02-23T05:12:32.409821Z"
    },
    "id": "37932349",
    "papermill": {
     "duration": 0.018099,
     "end_time": "2023-02-23T05:12:32.414377",
     "exception": false,
     "start_time": "2023-02-23T05:12:32.396278",
     "status": "completed"
    },
    "tags": []
   },
   "outputs": [],
   "source": [
    "import nltk\n",
    "from nltk.stem import WordNetLemmatizer\n",
    "lemmatizer = WordNetLemmatizer()\n",
    "import json\n",
    "import pickle\n",
    "import warnings\n",
    "warnings.filterwarnings('ignore')"
   ]
  },
  {
   "cell_type": "code",
   "execution_count": 3,
   "id": "577ce419",
   "metadata": {
    "execution": {
     "iopub.execute_input": "2023-02-23T05:12:32.433933Z",
     "iopub.status.busy": "2023-02-23T05:12:32.432635Z",
     "iopub.status.idle": "2023-02-23T05:12:41.199368Z",
     "shell.execute_reply": "2023-02-23T05:12:41.197655Z"
    },
    "id": "29f7ae99",
    "papermill": {
     "duration": 8.780125,
     "end_time": "2023-02-23T05:12:41.202711",
     "exception": false,
     "start_time": "2023-02-23T05:12:32.422586",
     "status": "completed"
    },
    "tags": []
   },
   "outputs": [],
   "source": [
    "import numpy as np\n",
    "import tensorflow as tf\n",
    "from keras.models import Sequential\n",
    "from keras.layers import Dense, Activation, Dropout\n",
    "from tensorflow.keras.optimizers import SGD\n",
    "import random"
   ]
  },
  {
   "cell_type": "markdown",
   "id": "4164ac69",
   "metadata": {
    "id": "0ec5134c",
    "papermill": {
     "duration": 0.006582,
     "end_time": "2023-02-23T05:12:41.216356",
     "exception": false,
     "start_time": "2023-02-23T05:12:41.209774",
     "status": "completed"
    },
    "tags": []
   },
   "source": [
    "# **Preprocessing**"
   ]
  },
  {
   "cell_type": "code",
   "execution_count": 4,
   "id": "bb20a5e6",
   "metadata": {
    "execution": {
     "iopub.execute_input": "2023-02-23T05:12:41.233240Z",
     "iopub.status.busy": "2023-02-23T05:12:41.232416Z",
     "iopub.status.idle": "2023-02-23T05:12:41.255943Z",
     "shell.execute_reply": "2023-02-23T05:12:41.254538Z"
    },
    "id": "2a27b3fe",
    "papermill": {
     "duration": 0.035369,
     "end_time": "2023-02-23T05:12:41.258823",
     "exception": false,
     "start_time": "2023-02-23T05:12:41.223454",
     "status": "completed"
    },
    "tags": []
   },
   "outputs": [],
   "source": [
    "words=[]\n",
    "classes = []\n",
    "documents = []\n",
    "ignore_words = ['?', '!']\n",
    "data_file = open('/kaggle/input/chatbot-dataset/intents.json').read() # read json file\n",
    "intents = json.loads(data_file) # load json file"
   ]
  },
  {
   "cell_type": "code",
   "execution_count": 5,
   "id": "636dbf65",
   "metadata": {
    "execution": {
     "iopub.execute_input": "2023-02-23T05:12:41.288695Z",
     "iopub.status.busy": "2023-02-23T05:12:41.287939Z",
     "iopub.status.idle": "2023-02-23T05:12:41.346680Z",
     "shell.execute_reply": "2023-02-23T05:12:41.345412Z"
    },
    "id": "d1fce670",
    "papermill": {
     "duration": 0.070578,
     "end_time": "2023-02-23T05:12:41.349850",
     "exception": false,
     "start_time": "2023-02-23T05:12:41.279272",
     "status": "completed"
    },
    "tags": []
   },
   "outputs": [],
   "source": [
    "for intent in intents['intents']:\n",
    "    for pattern in intent['patterns']:\n",
    "        #tokenize each word\n",
    "        w = nltk.word_tokenize(pattern)\n",
    "        words.extend(w)# add each elements into list\n",
    "        #combination between patterns and intents\n",
    "        documents.append((w, intent['tag']))#add single element into end of list\n",
    "        # add to tag in our classes list\n",
    "        if intent['tag'] not in classes:\n",
    "            classes.append(intent['tag'])"
   ]
  },
  {
   "cell_type": "code",
   "execution_count": 6,
   "id": "6c496469",
   "metadata": {
    "execution": {
     "iopub.execute_input": "2023-02-23T05:12:41.365949Z",
     "iopub.status.busy": "2023-02-23T05:12:41.365483Z",
     "iopub.status.idle": "2023-02-23T05:12:41.453466Z",
     "shell.execute_reply": "2023-02-23T05:12:41.451892Z"
    },
    "id": "caf5ffe1",
    "outputId": "97496bb7-e2d7-4243-d2a7-b7512e192458",
    "papermill": {
     "duration": 0.099728,
     "end_time": "2023-02-23T05:12:41.456789",
     "exception": false,
     "start_time": "2023-02-23T05:12:41.357061",
     "status": "completed"
    },
    "tags": []
   },
   "outputs": [
    {
     "name": "stderr",
     "output_type": "stream",
     "text": [
      "[nltk_data] Downloading package wordnet to /usr/share/nltk_data...\n",
      "[nltk_data]   Package wordnet is already up-to-date!\n"
     ]
    },
    {
     "data": {
      "text/plain": [
       "True"
      ]
     },
     "execution_count": 6,
     "metadata": {},
     "output_type": "execute_result"
    }
   ],
   "source": [
    "nltk.download('wordnet') #lexical database for the English language"
   ]
  },
  {
   "cell_type": "code",
   "execution_count": 7,
   "id": "8826e696",
   "metadata": {
    "execution": {
     "iopub.execute_input": "2023-02-23T05:12:41.473353Z",
     "iopub.status.busy": "2023-02-23T05:12:41.472806Z",
     "iopub.status.idle": "2023-02-23T05:12:41.933784Z",
     "shell.execute_reply": "2023-02-23T05:12:41.932370Z"
    },
    "id": "1bdda46f",
    "outputId": "52603b6e-b9b7-4de9-b8ae-16edbdceea76",
    "papermill": {
     "duration": 0.472743,
     "end_time": "2023-02-23T05:12:41.936812",
     "exception": false,
     "start_time": "2023-02-23T05:12:41.464069",
     "status": "completed"
    },
    "tags": []
   },
   "outputs": [
    {
     "name": "stderr",
     "output_type": "stream",
     "text": [
      "[nltk_data] Downloading package omw-1.4 to /usr/share/nltk_data...\n"
     ]
    },
    {
     "data": {
      "text/plain": [
       "True"
      ]
     },
     "execution_count": 7,
     "metadata": {},
     "output_type": "execute_result"
    }
   ],
   "source": [
    "nltk.download('omw-1.4')"
   ]
  },
  {
   "cell_type": "code",
   "execution_count": 8,
   "id": "ea121ce6",
   "metadata": {
    "execution": {
     "iopub.execute_input": "2023-02-23T05:12:41.968467Z",
     "iopub.status.busy": "2023-02-23T05:12:41.967918Z",
     "iopub.status.idle": "2023-02-23T05:12:44.148161Z",
     "shell.execute_reply": "2023-02-23T05:12:44.146037Z"
    },
    "id": "6dbaf343",
    "outputId": "155e2bb5-52bc-4273-f968-767921210285",
    "papermill": {
     "duration": 2.192283,
     "end_time": "2023-02-23T05:12:44.151229",
     "exception": false,
     "start_time": "2023-02-23T05:12:41.958946",
     "status": "completed"
    },
    "tags": []
   },
   "outputs": [
    {
     "name": "stdout",
     "output_type": "stream",
     "text": [
      "405 documents\n",
      " [(['Hi'], 'greeting'), (['How', 'are', 'you', '?'], 'greeting'), (['Is', 'anyone', 'there', '?'], 'greeting'), (['Hello'], 'greeting'), (['Good', 'day'], 'greeting'), (['What', \"'s\", 'up'], 'greeting'), (['how', 'are', 'ya'], 'greeting'), (['heyy'], 'greeting'), (['whatsup'], 'greeting'), (['?', '?', '?', '?', '?', '?', '?', '?'], 'greeting'), (['cya'], 'goodbye'), (['see', 'you'], 'goodbye'), (['bye', 'bye'], 'goodbye'), (['See', 'you', 'later'], 'goodbye'), (['Goodbye'], 'goodbye'), (['I', 'am', 'Leaving'], 'goodbye'), (['Bye'], 'goodbye'), (['Have', 'a', 'Good', 'day'], 'goodbye'), (['talk', 'to', 'you', 'later'], 'goodbye'), (['ttyl'], 'goodbye'), (['i', 'got', 'to', 'go'], 'goodbye'), (['gtg'], 'goodbye'), (['what', 'is', 'the', 'name', 'of', 'your', 'developers'], 'creator'), (['what', 'is', 'the', 'name', 'of', 'your', 'creators'], 'creator'), (['what', 'is', 'the', 'name', 'of', 'the', 'developers'], 'creator'), (['what', 'is', 'the', 'name', 'of', 'the', 'creators'], 'creator'), (['who', 'created', 'you'], 'creator'), (['your', 'developers'], 'creator'), (['your', 'creators'], 'creator'), (['who', 'are', 'your', 'developers'], 'creator'), (['developers'], 'creator'), (['you', 'are', 'made', 'by'], 'creator'), (['you', 'are', 'made', 'by', 'whom'], 'creator'), (['who', 'created', 'you'], 'creator'), (['who', 'create', 'you'], 'creator'), (['creators'], 'creator'), (['who', 'made', 'you'], 'creator'), (['who', 'designed', 'you'], 'creator'), (['name'], 'name'), (['your', 'name'], 'name'), (['do', 'you', 'have', 'a', 'name'], 'name'), (['what', 'are', 'you', 'called'], 'name'), (['what', 'is', 'your', 'name'], 'name'), (['what', 'should', 'I', 'call', 'you'], 'name'), (['whats', 'your', 'name', '?'], 'name'), (['what', 'are', 'you'], 'name'), (['who', 'are', 'you'], 'name'), (['who', 'is', 'this'], 'name'), (['what', 'am', 'i', 'chatting', 'to'], 'name'), (['who', 'am', 'i', 'taking', 'to'], 'name'), (['what', 'are', 'you'], 'name'), (['timing', 'of', 'college'], 'hours'), (['what', 'is', 'college', 'timing'], 'hours'), (['working', 'days'], 'hours'), (['when', 'are', 'you', 'guys', 'open'], 'hours'), (['what', 'are', 'your', 'hours'], 'hours'), (['hours', 'of', 'operation'], 'hours'), (['when', 'is', 'the', 'college', 'open'], 'hours'), (['college', 'timing'], 'hours'), (['what', 'about', 'college', 'timing'], 'hours'), (['is', 'college', 'open', 'on', 'saturday'], 'hours'), (['tell', 'something', 'about', 'college', 'timing'], 'hours'), (['what', 'is', 'the', 'college', 'hours'], 'hours'), (['when', 'should', 'i', 'come', 'to', 'college'], 'hours'), (['when', 'should', 'i', 'attend', 'college'], 'hours'), (['what', 'is', 'my', 'college', 'time'], 'hours'), (['college', 'timing'], 'hours'), (['timing', 'college'], 'hours'), (['more', 'info'], 'number'), (['contact', 'info'], 'number'), (['how', 'to', 'contact', 'college'], 'number'), (['college', 'telephone', 'number'], 'number'), (['college', 'number'], 'number'), (['What', 'is', 'your', 'contact', 'no'], 'number'), (['Contact', 'number', '?'], 'number'), (['how', 'to', 'call', 'you'], 'number'), (['College', 'phone', 'no', '?'], 'number'), (['how', 'can', 'i', 'contact', 'you'], 'number'), (['Can', 'i', 'get', 'your', 'phone', 'number'], 'number'), (['how', 'can', 'i', 'call', 'you'], 'number'), (['phone', 'number'], 'number'), (['phone', 'no'], 'number'), (['call'], 'number'), (['list', 'of', 'courses'], 'course'), (['list', 'of', 'courses', 'offered'], 'course'), (['list', 'of', 'courses', 'offered', 'in'], 'course'), (['what', 'are', 'the', 'courses', 'offered', 'in', 'your', 'college', '?'], 'course'), (['courses', '?'], 'course'), (['courses', 'offered'], 'course'), (['courses', 'offered', 'in', '(', 'your', 'univrsity', '(', 'UNI', ')', 'name', ')'], 'course'), (['courses', 'you', 'offer'], 'course'), (['branches', '?'], 'course'), (['courses', 'available', 'at', 'UNI', '?'], 'course'), (['branches', 'available', 'at', 'your', 'college', '?'], 'course'), (['what', 'are', 'the', 'courses', 'in', 'UNI', '?'], 'course'), (['what', 'are', 'branches', 'in', 'UNI', '?'], 'course'), (['what', 'are', 'courses', 'in', 'UNI', '?'], 'course'), (['branches', 'available', 'in', 'UNI', '?'], 'course'), (['can', 'you', 'tell', 'me', 'the', 'courses', 'available', 'in', 'UNI', '?'], 'course'), (['can', 'you', 'tell', 'me', 'the', 'branches', 'available', 'in', 'UNI', '?'], 'course'), (['computer', 'engineering', '?'], 'course'), (['computer'], 'course'), (['Computer', 'engineering', '?'], 'course'), (['it'], 'course'), (['IT'], 'course'), (['Information', 'Technology'], 'course'), (['AI/Ml'], 'course'), (['Mechanical', 'engineering'], 'course'), (['Chemical', 'engineering'], 'course'), (['Civil', 'engineering'], 'course'), (['information', 'about', 'fee'], 'fees'), (['information', 'on', 'fee'], 'fees'), (['tell', 'me', 'the', 'fee'], 'fees'), (['college', 'fee'], 'fees'), (['fee', 'per', 'semester'], 'fees'), (['what', 'is', 'the', 'fee', 'of', 'each', 'semester'], 'fees'), (['what', 'is', 'the', 'fees', 'of', 'each', 'year'], 'fees'), (['what', 'is', 'fee'], 'fees'), (['what', 'is', 'the', 'fees'], 'fees'), (['how', 'much', 'is', 'the', 'fees'], 'fees'), (['fees', 'for', 'first', 'year'], 'fees'), (['fees'], 'fees'), (['about', 'the', 'fees'], 'fees'), (['tell', 'me', 'something', 'about', 'the', 'fees'], 'fees'), (['What', 'is', 'the', 'fees', 'of', 'hostel'], 'fees'), (['how', 'much', 'is', 'the', 'fees'], 'fees'), (['hostel', 'fees'], 'fees'), (['fees', 'for', 'AC', 'room'], 'fees'), (['fees', 'for', 'non-AC', 'room'], 'fees'), (['fees', 'for', 'Ac', 'room', 'for', 'girls'], 'fees'), (['fees', 'for', 'non-Ac', 'room', 'for', 'girls'], 'fees'), (['fees', 'for', 'Ac', 'room', 'for', 'boys'], 'fees'), (['fees', 'for', 'non-Ac', 'room', 'for', 'boys'], 'fees'), (['where', 'is', 'the', 'college', 'located'], 'location'), (['college', 'is', 'located', 'at'], 'location'), (['where', 'is', 'college'], 'location'), (['where', 'is', 'college', 'located'], 'location'), (['address', 'of', 'college'], 'location'), (['how', 'to', 'reach', 'college'], 'location'), (['college', 'location'], 'location'), (['college', 'address'], 'location'), (['wheres', 'the', 'college'], 'location'), (['how', 'can', 'I', 'reach', 'college'], 'location'), (['whats', 'is', 'the', 'college', 'address'], 'location'), (['what', 'is', 'the', 'address', 'of', 'college'], 'location'), (['address'], 'location'), (['location'], 'location'), (['hostel', 'facility'], 'hostel'), (['hostel', 'servive'], 'hostel'), (['hostel', 'location'], 'hostel'), (['hostel', 'address'], 'hostel'), (['hostel', 'facilities'], 'hostel'), (['hostel', 'fees'], 'hostel'), (['Does', 'college', 'provide', 'hostel'], 'hostel'), (['Is', 'there', 'any', 'hostel'], 'hostel'), (['Where', 'is', 'hostel'], 'hostel'), (['do', 'you', 'have', 'hostel'], 'hostel'), (['do', 'you', 'guys', 'have', 'hostel'], 'hostel'), (['hostel'], 'hostel'), (['hostel', 'capacity'], 'hostel'), (['what', 'is', 'the', 'hostel', 'fee'], 'hostel'), (['how', 'to', 'get', 'in', 'hostel'], 'hostel'), (['what', 'is', 'the', 'hostel', 'address'], 'hostel'), (['how', 'far', 'is', 'hostel', 'from', 'college'], 'hostel'), (['hostel', 'college', 'distance'], 'hostel'), (['where', 'is', 'the', 'hostel'], 'hostel'), (['how', 'big', 'is', 'the', 'hostel'], 'hostel'), (['distance', 'between', 'college', 'and', 'hostel'], 'hostel'), (['distance', 'between', 'hostel', 'and', 'college'], 'hostel'), (['events', 'organised'], 'event'), (['list', 'of', 'events'], 'event'), (['list', 'of', 'events', 'organised', 'in', 'college'], 'event'), (['list', 'of', 'events', 'conducted', 'in', 'college'], 'event'), (['What', 'events', 'are', 'conducted', 'in', 'college'], 'event'), (['Are', 'there', 'any', 'event', 'held', 'at', 'college'], 'event'), (['Events', '?'], 'event'), (['functions'], 'event'), (['what', 'are', 'the', 'events'], 'event'), (['tell', 'me', 'about', 'events'], 'event'), (['what', 'about', 'events'], 'event'), (['document', 'to', 'bring'], 'document'), (['documents', 'needed', 'for', 'admision'], 'document'), (['documents', 'needed', 'at', 'the', 'time', 'of', 'admission'], 'document'), (['documents', 'needed', 'during', 'admission'], 'document'), (['documents', 'required', 'for', 'admision'], 'document'), (['documents', 'required', 'at', 'the', 'time', 'of', 'admission'], 'document'), (['documents', 'required', 'during', 'admission'], 'document'), (['What', 'document', 'are', 'required', 'for', 'admission'], 'document'), (['Which', 'document', 'to', 'bring', 'for', 'admission'], 'document'), (['documents'], 'document'), (['what', 'documents', 'do', 'i', 'need'], 'document'), (['what', 'documents', 'do', 'I', 'need', 'for', 'admission'], 'document'), (['documents', 'needed'], 'document'), (['size', 'of', 'campus'], 'floors'), (['building', 'size'], 'floors'), (['How', 'many', 'floors', 'does', 'college', 'have'], 'floors'), (['floors', 'in', 'college'], 'floors'), (['floors', 'in', 'college'], 'floors'), (['how', 'tall', 'is', 'UNI', \"'s\", 'College', 'of', 'Engineering', 'college', 'building'], 'floors'), (['floors'], 'floors'), (['Syllabus', 'for', 'IT'], 'syllabus'), (['what', 'is', 'the', 'Information', 'Technology', 'syllabus'], 'syllabus'), (['syllabus'], 'syllabus'), (['timetable'], 'syllabus'), (['what', 'is', 'IT', 'syllabus'], 'syllabus'), (['syllabus'], 'syllabus'), (['What', 'is', 'next', 'lecture'], 'syllabus'), (['is', 'there', 'any', 'library'], 'library'), (['library', 'facility'], 'library'), (['library', 'facilities'], 'library'), (['do', 'you', 'have', 'library'], 'library'), (['does', 'the', 'college', 'have', 'library', 'facility'], 'library'), (['college', 'library'], 'library'), (['where', 'can', 'i', 'get', 'books'], 'library'), (['book', 'facility'], 'library'), (['Where', 'is', 'library'], 'library'), (['Library'], 'library'), (['Library', 'information'], 'library'), (['Library', 'books', 'information'], 'library'), (['Tell', 'me', 'about', 'library'], 'library'), (['how', 'many', 'libraries'], 'library'), (['how', 'is', 'college', 'infrastructure'], 'infrastructure'), (['infrastructure'], 'infrastructure'), (['college', 'infrastructure'], 'infrastructure'), (['food', 'facilities'], 'canteen'), (['canteen', 'facilities'], 'canteen'), (['canteen', 'facility'], 'canteen'), (['is', 'there', 'any', 'canteen'], 'canteen'), (['Is', 'there', 'a', 'cafetaria', 'in', 'college'], 'canteen'), (['Does', 'college', 'have', 'canteen'], 'canteen'), (['Where', 'is', 'canteen'], 'canteen'), (['where', 'is', 'cafetaria'], 'canteen'), (['canteen'], 'canteen'), (['Food'], 'canteen'), (['Cafetaria'], 'canteen'), (['food', 'menu'], 'menu'), (['food', 'in', 'canteen'], 'menu'), (['Whats', 'there', 'on', 'menu'], 'menu'), (['what', 'is', 'available', 'in', 'college', 'canteen'], 'menu'), (['what', 'foods', 'can', 'we', 'get', 'in', 'college', 'canteen'], 'menu'), (['food', 'variety'], 'menu'), (['What', 'is', 'there', 'to', 'eat', '?'], 'menu'), (['What', 'is', 'college', 'placement'], 'placement'), (['Which', 'companies', 'visit', 'in', 'college'], 'placement'), (['What', 'is', 'average', 'package'], 'placement'), (['companies', 'visit'], 'placement'), (['package'], 'placement'), (['About', 'placement'], 'placement'), (['placement'], 'placement'), (['recruitment'], 'placement'), (['companies'], 'placement'), (['Who', 'is', 'HOD'], 'ithod'), (['Where', 'is', 'HOD'], 'ithod'), (['it', 'hod'], 'ithod'), (['name', 'of', 'it', 'hod'], 'ithod'), (['Who', 'is', 'computer', 'HOD'], 'computerhod'), (['Where', 'is', 'computer', 'HOD'], 'computerhod'), (['computer', 'hod'], 'computerhod'), (['name', 'of', 'computer', 'hod'], 'computerhod'), (['Who', 'is', 'extc', 'HOD'], 'extchod'), (['Where', 'is', 'extc', 'HOD'], 'extchod'), (['extc', 'hod'], 'extchod'), (['name', 'of', 'extc', 'hod'], 'extchod'), (['what', 'is', 'the', 'name', 'of', 'principal'], 'principal'), (['whatv', 'is', 'the', 'principal', 'name'], 'principal'), (['principal', 'name'], 'principal'), (['Who', 'is', 'college', 'principal'], 'principal'), (['Where', 'is', 'principal', \"'s\", 'office'], 'principal'), (['principal'], 'principal'), (['name', 'of', 'principal'], 'principal'), (['exam', 'dates'], 'sem'), (['exam', 'schedule'], 'sem'), (['When', 'is', 'semester', 'exam'], 'sem'), (['Semester', 'exam', 'timetable'], 'sem'), (['sem'], 'sem'), (['semester'], 'sem'), (['exam'], 'sem'), (['when', 'is', 'exam'], 'sem'), (['exam', 'timetable'], 'sem'), (['exam', 'dates'], 'sem'), (['when', 'is', 'semester'], 'sem'), (['what', 'is', 'the', 'process', 'of', 'admission'], 'admission'), (['what', 'is', 'the', 'admission', 'process'], 'admission'), (['How', 'to', 'take', 'admission', 'in', 'your', 'college'], 'admission'), (['What', 'is', 'the', 'process', 'for', 'admission'], 'admission'), (['admission'], 'admission'), (['admission', 'process'], 'admission'), (['scholarship'], 'scholarship'), (['Is', 'scholarship', 'available'], 'scholarship'), (['scholarship', 'engineering'], 'scholarship'), (['scholarship', 'it'], 'scholarship'), (['scholarship', 'ce'], 'scholarship'), (['scholarship', 'mechanical'], 'scholarship'), (['scholarship', 'civil'], 'scholarship'), (['scholarship', 'chemical'], 'scholarship'), (['scholarship', 'for', 'AI/ML'], 'scholarship'), (['available', 'scholarships'], 'scholarship'), (['scholarship', 'for', 'computer', 'engineering'], 'scholarship'), (['scholarship', 'for', 'IT', 'engineering'], 'scholarship'), (['scholarship', 'for', 'mechanical', 'engineering'], 'scholarship'), (['scholarship', 'for', 'civil', 'engineering'], 'scholarship'), (['scholarship', 'for', 'chemical', 'engineering'], 'scholarship'), (['list', 'of', 'scholarship'], 'scholarship'), (['comps', 'scholarship'], 'scholarship'), (['IT', 'scholarship'], 'scholarship'), (['mechanical', 'scholarship'], 'scholarship'), (['civil', 'scholarship'], 'scholarship'), (['chemical', 'scholarship'], 'scholarship'), (['automobile', 'scholarship'], 'scholarship'), (['first', 'year', 'scholarship'], 'scholarship'), (['second', 'year', 'scholarship'], 'scholarship'), (['third', 'year', 'scholarship'], 'scholarship'), (['fourth', 'year', 'scholarship'], 'scholarship'), (['What', 'facilities', 'college', 'provide'], 'facilities'), (['College', 'facility'], 'facilities'), (['What', 'are', 'college', 'facilities'], 'facilities'), (['facilities'], 'facilities'), (['facilities', 'provided'], 'facilities'), (['max', 'number', 'of', 'students'], 'college intake'), (['number', 'of', 'seats', 'per', 'branch'], 'college intake'), (['number', 'of', 'seats', 'in', 'each', 'branch'], 'college intake'), (['maximum', 'number', 'of', 'seats'], 'college intake'), (['maximum', 'students', 'intake'], 'college intake'), (['What', 'is', 'college', 'intake'], 'college intake'), (['how', 'many', 'stundent', 'are', 'taken', 'in', 'each', 'branch'], 'college intake'), (['seat', 'allotment'], 'college intake'), (['seats'], 'college intake'), (['college', 'dress', 'code'], 'uniform'), (['college', 'dresscode'], 'uniform'), (['what', 'is', 'the', 'uniform'], 'uniform'), (['can', 'we', 'wear', 'casuals'], 'uniform'), (['Does', 'college', 'have', 'an', 'uniform'], 'uniform'), (['Is', 'there', 'any', 'uniform'], 'uniform'), (['uniform'], 'uniform'), (['what', 'about', 'uniform'], 'uniform'), (['do', 'we', 'have', 'to', 'wear', 'uniform'], 'uniform'), (['what', 'are', 'the', 'different', 'committe', 'in', 'college'], 'committee'), (['different', 'committee', 'in', 'college'], 'committee'), (['Are', 'there', 'any', 'committee', 'in', 'college'], 'committee'), (['Give', 'me', 'committee', 'details'], 'committee'), (['committee'], 'committee'), (['how', 'many', 'committee', 'are', 'there', 'in', 'college'], 'committee'), (['I', 'love', 'you'], 'random'), (['Will', 'you', 'marry', 'me'], 'random'), (['Do', 'you', 'love', 'me'], 'random'), (['fuck'], 'swear'), (['bitch'], 'swear'), (['shut', 'up'], 'swear'), (['hell'], 'swear'), (['stupid'], 'swear'), (['idiot'], 'swear'), (['dumb', 'ass'], 'swear'), (['asshole'], 'swear'), (['fucker'], 'swear'), (['holidays'], 'vacation'), (['when', 'will', 'semester', 'starts'], 'vacation'), (['when', 'will', 'semester', 'end'], 'vacation'), (['when', 'is', 'the', 'holidays'], 'vacation'), (['list', 'of', 'holidays'], 'vacation'), (['Holiday', 'in', 'these', 'year'], 'vacation'), (['holiday', 'list'], 'vacation'), (['about', 'vacations'], 'vacation'), (['about', 'holidays'], 'vacation'), (['When', 'is', 'vacation'], 'vacation'), (['When', 'is', 'holidays'], 'vacation'), (['how', 'long', 'will', 'be', 'the', 'vacation'], 'vacation'), (['sports', 'and', 'games'], 'sports'), (['give', 'sports', 'details'], 'sports'), (['sports', 'infrastructure'], 'sports'), (['sports', 'facilities'], 'sports'), (['information', 'about', 'sports'], 'sports'), (['Sports', 'activities'], 'sports'), (['please', 'provide', 'sports', 'and', 'games', 'information'], 'sports'), (['okk'], 'salutaion'), (['okie'], 'salutaion'), (['nice', 'work'], 'salutaion'), (['well', 'done'], 'salutaion'), (['good', 'job'], 'salutaion'), (['thanks', 'for', 'the', 'help'], 'salutaion'), (['Thank', 'You'], 'salutaion'), (['its', 'ok'], 'salutaion'), (['Thanks'], 'salutaion'), (['Good', 'work'], 'salutaion'), (['k'], 'salutaion'), (['ok'], 'salutaion'), (['okay'], 'salutaion'), (['what', 'can', 'you', 'do'], 'task'), (['what', 'are', 'the', 'thing', 'you', 'can', 'do'], 'task'), (['things', 'you', 'can', 'do'], 'task'), (['what', 'can', 'u', 'do', 'for', 'me'], 'task'), (['how', 'u', 'can', 'help', 'me'], 'task'), (['why', 'i', 'should', 'use', 'you'], 'task'), (['ragging'], 'ragging'), (['is', 'ragging', 'practice', 'active', 'in', 'college'], 'ragging'), (['does', 'college', 'have', 'any', 'antiragging', 'facility'], 'ragging'), (['is', 'there', 'any', 'ragging', 'cases'], 'ragging'), (['is', 'ragging', 'done', 'here'], 'ragging'), (['ragging', 'against'], 'ragging'), (['antiragging', 'facility'], 'ragging'), (['ragging', 'juniors'], 'ragging'), (['ragging', 'history'], 'ragging'), (['ragging', 'incidents'], 'ragging'), (['hod'], 'hod'), (['hod', 'name'], 'hod'), (['who', 'is', 'the', 'hod'], 'hod')] \n",
      "\n",
      "38 classes\n",
      " ['admission', 'canteen', 'college intake', 'committee', 'computerhod', 'course', 'creator', 'document', 'event', 'extchod', 'facilities', 'fees', 'floors', 'goodbye', 'greeting', 'hod', 'hostel', 'hours', 'infrastructure', 'ithod', 'library', 'location', 'menu', 'name', 'number', 'placement', 'principal', 'ragging', 'random', 'salutaion', 'scholarship', 'sem', 'sports', 'swear', 'syllabus', 'task', 'uniform', 'vacation'] \n",
      "\n",
      "263 unique lemmatized words\n",
      " [\"'s\", '(', ')', 'a', 'about', 'ac', 'active', 'activity', 'address', 'admision', 'admission', 'against', 'ai/ml', 'allotment', 'am', 'an', 'and', 'antiragging', 'any', 'anyone', 'are', 'as', 'asshole', 'at', 'attend', 'automobile', 'available', 'average', 'be', 'between', 'big', 'bitch', 'book', 'boy', 'branch', 'bring', 'building', 'by', 'bye', 'cafetaria', 'call', 'called', 'campus', 'can', 'canteen', 'capacity', 'case', 'casuals', 'ce', 'chatting', 'chemical', 'civil', 'code', 'college', 'come', 'committe', 'committee', 'comp', 'company', 'computer', 'conducted', 'contact', 'course', 'create', 'created', 'creator', 'cya', 'date', 'day', 'designed', 'detail', 'developer', 'different', 'distance', 'do', 'document', 'doe', 'done', 'dress', 'dresscode', 'dumb', 'during', 'each', 'eat', 'end', 'engineering', 'event', 'exam', 'extc', 'facility', 'far', 'fee', 'first', 'floor', 'food', 'for', 'fourth', 'from', 'fuck', 'fucker', 'function', 'game', 'get', 'girl', 'give', 'go', 'good', 'goodbye', 'got', 'gtg', 'guy', 'have', 'held', 'hell', 'hello', 'help', 'here', 'heyy', 'hi', 'history', 'hod', 'holiday', 'hostel', 'hour', 'how', 'i', 'idiot', 'in', 'incident', 'info', 'information', 'infrastructure', 'intake', 'is', 'it', 'job', 'junior', 'k', 'later', 'leaving', 'lecture', 'library', 'list', 'located', 'location', 'long', 'love', 'made', 'many', 'marry', 'max', 'maximum', 'me', 'mechanical', 'menu', 'more', 'much', 'my', 'name', 'need', 'needed', 'next', 'nice', 'no', 'non-ac', 'number', 'of', 'offer', 'offered', 'office', 'ok', 'okay', 'okie', 'okk', 'on', 'open', 'operation', 'organised', 'package', 'per', 'phone', 'placement', 'please', 'practice', 'principal', 'process', 'provide', 'provided', 'ragging', 'reach', 'recruitment', 'required', 'room', 'saturday', 'schedule', 'scholarship', 'seat', 'second', 'see', 'sem', 'semester', 'servive', 'should', 'shut', 'size', 'something', 'sport', 'start', 'student', 'stundent', 'stupid', 'syllabus', 'take', 'taken', 'taking', 'talk', 'tall', 'technology', 'telephone', 'tell', 'thank', 'thanks', 'the', 'there', 'these', 'thing', 'third', 'this', 'time', 'timetable', 'timing', 'to', 'ttyl', 'u', 'uni', 'uniform', 'univrsity', 'up', 'use', 'vacation', 'variety', 'visit', 'we', 'wear', 'well', 'what', 'whats', 'whatsup', 'whatv', 'when', 'where', 'wheres', 'which', 'who', 'whom', 'why', 'will', 'work', 'working', 'ya', 'year', 'you', 'your'] \n",
      "\n"
     ]
    }
   ],
   "source": [
    "# lemmatize, lower each word and remove duplicates\n",
    "words = [lemmatizer.lemmatize(w.lower()) for w in words if w not in ignore_words]\n",
    "words = sorted(list(set(words)))\n",
    "# sort classes\n",
    "classes = sorted(list(set(classes)))\n",
    "# documents = combination between patterns and intents\n",
    "print (len(documents), \"documents\\n\", documents, \"\\n\")\n",
    "# classes = intents[tag]\n",
    "print (len(classes), \"classes\\n\", classes, \"\\n\")\n",
    "# words = all words, vocabulary\n",
    "print (len(words), \"unique lemmatized words\\n\", words, \"\\n\")\n",
    "pickle.dump(words,open('words.pkl','wb'))\n",
    "pickle.dump(classes,open('classes.pkl','wb'))"
   ]
  },
  {
   "cell_type": "markdown",
   "id": "4a818b1a",
   "metadata": {
    "id": "9f8f5df3",
    "papermill": {
     "duration": 0.007406,
     "end_time": "2023-02-23T05:12:44.166887",
     "exception": false,
     "start_time": "2023-02-23T05:12:44.159481",
     "status": "completed"
    },
    "tags": []
   },
   "source": [
    "# **Training Model**"
   ]
  },
  {
   "cell_type": "code",
   "execution_count": 9,
   "id": "e3df0178",
   "metadata": {
    "execution": {
     "iopub.execute_input": "2023-02-23T05:12:44.199587Z",
     "iopub.status.busy": "2023-02-23T05:12:44.199070Z",
     "iopub.status.idle": "2023-02-23T05:12:44.248365Z",
     "shell.execute_reply": "2023-02-23T05:12:44.246445Z"
    },
    "id": "d847cc41",
    "outputId": "0ca247d5-1c16-41c6-fbd8-4c22fb030298",
    "papermill": {
     "duration": 0.06165,
     "end_time": "2023-02-23T05:12:44.251354",
     "exception": false,
     "start_time": "2023-02-23T05:12:44.189704",
     "status": "completed"
    },
    "tags": []
   },
   "outputs": [
    {
     "name": "stdout",
     "output_type": "stream",
     "text": [
      "Training data created\n"
     ]
    }
   ],
   "source": [
    "# create our training data\n",
    "training = []\n",
    "# create an empty array for our output\n",
    "output_empty = [0] * len(classes)\n",
    "# training set, bag of words for each sentence\n",
    "for doc in documents:\n",
    "    # initialize our bag of words\n",
    "    bag = []\n",
    "    # list of tokenized words\n",
    "    pattern_words = doc[0]\n",
    "    # convert pattern_words in lower case\n",
    "    pattern_words = [lemmatizer.lemmatize(word.lower()) for word in pattern_words]\n",
    "    # create bag of words array,if word match found in current pattern then put 1 otherwise 0.[row * colm(263)]\n",
    "    for w in words:\n",
    "        bag.append(1) if w in pattern_words else bag.append(0)\n",
    "    \n",
    "    # in output array 0 value for each tag ang 1 value for matched tag.[row * colm(8)]\n",
    "    output_row = list(output_empty)\n",
    "    output_row[classes.index(doc[1])] = 1\n",
    "    \n",
    "    training.append([bag, output_row])\n",
    "# shuffle training and turn into np.array\n",
    "random.shuffle(training)\n",
    "training = np.array(training)\n",
    "# create train and test. X - patterns(words), Y - intents(tags)\n",
    "train_x = list(training[:,0])\n",
    "train_y = list(training[:,1])\n",
    "print(\"Training data created\")"
   ]
  },
  {
   "cell_type": "code",
   "execution_count": 10,
   "id": "f55abcf8",
   "metadata": {
    "execution": {
     "iopub.execute_input": "2023-02-23T05:12:44.268957Z",
     "iopub.status.busy": "2023-02-23T05:12:44.268414Z",
     "iopub.status.idle": "2023-02-23T05:12:44.274589Z",
     "shell.execute_reply": "2023-02-23T05:12:44.273124Z"
    },
    "id": "a002459e",
    "papermill": {
     "duration": 0.017842,
     "end_time": "2023-02-23T05:12:44.277079",
     "exception": false,
     "start_time": "2023-02-23T05:12:44.259237",
     "status": "completed"
    },
    "tags": []
   },
   "outputs": [],
   "source": [
    "from tensorflow.python.framework import ops\n",
    "ops.reset_default_graph()"
   ]
  },
  {
   "cell_type": "markdown",
   "id": "e26e37eb",
   "metadata": {
    "papermill": {
     "duration": 0.007489,
     "end_time": "2023-02-23T05:12:44.292236",
     "exception": false,
     "start_time": "2023-02-23T05:12:44.284747",
     "status": "completed"
    },
    "tags": []
   },
   "source": [
    "# **Build the model** "
   ]
  },
  {
   "cell_type": "code",
   "execution_count": 11,
   "id": "1b452b16",
   "metadata": {
    "execution": {
     "iopub.execute_input": "2023-02-23T05:12:44.325280Z",
     "iopub.status.busy": "2023-02-23T05:12:44.324495Z",
     "iopub.status.idle": "2023-02-23T05:12:44.484893Z",
     "shell.execute_reply": "2023-02-23T05:12:44.483363Z"
    },
    "id": "0326b0b8",
    "outputId": "3961859b-9073-4378-fdff-bf570249b7a9",
    "papermill": {
     "duration": 0.172929,
     "end_time": "2023-02-23T05:12:44.487916",
     "exception": false,
     "start_time": "2023-02-23T05:12:44.314987",
     "status": "completed"
    },
    "tags": []
   },
   "outputs": [
    {
     "name": "stdout",
     "output_type": "stream",
     "text": [
      "First layer: [[ 0.08108504 -0.06599443 -0.10388638 ... -0.01234975  0.02568085\n",
      "   0.00633688]\n",
      " [-0.02540757 -0.0221673  -0.0489299  ...  0.10772091  0.00711305\n",
      "   0.03869867]\n",
      " [-0.06639696 -0.05009066 -0.03959011 ... -0.0571945  -0.11444904\n",
      "  -0.06228179]\n",
      " ...\n",
      " [ 0.02686372  0.0873628   0.12299983 ... -0.07360662  0.05407895\n",
      "  -0.01691054]\n",
      " [-0.08417445 -0.10581411 -0.07542053 ... -0.06181952 -0.12180413\n",
      "  -0.08388676]\n",
      " [-0.07259022  0.11421812 -0.04386763 ...  0.00979565  0.05784626\n",
      "   0.09121044]]\n"
     ]
    }
   ],
   "source": [
    "# Create model - 3 layers. First layer 128 neurons, second layer 64 neurons and 3rd output layer contains number of neurons\n",
    "# equal to number of intents to predict output intent with softmax\n",
    "model = Sequential()\n",
    "model.add(Dense(128, input_shape=(len(train_x[0]),), activation='relu'))\n",
    "model.add(Dropout(0.5))\n",
    "model.add(Dense(64, activation='relu'))\n",
    "model.add(Dropout(0.5))\n",
    "model.add(Dense(len(train_y[0]), activation='softmax'))\n",
    "print(\"First layer:\",model.layers[0].get_weights()[0])"
   ]
  },
  {
   "cell_type": "code",
   "execution_count": 12,
   "id": "b4ada84d",
   "metadata": {
    "execution": {
     "iopub.execute_input": "2023-02-23T05:12:44.506211Z",
     "iopub.status.busy": "2023-02-23T05:12:44.505671Z",
     "iopub.status.idle": "2023-02-23T05:12:44.868268Z",
     "shell.execute_reply": "2023-02-23T05:12:44.866865Z"
    },
    "id": "33cf80df",
    "papermill": {
     "duration": 0.375517,
     "end_time": "2023-02-23T05:12:44.871525",
     "exception": false,
     "start_time": "2023-02-23T05:12:44.496008",
     "status": "completed"
    },
    "tags": []
   },
   "outputs": [],
   "source": [
    "# Compile model. Stochastic gradient descent with Nesterov accelerated gradient gives good results for this model\n",
    "# sgd = SGD(lr=0.01, decay=1e-6, momentum=0.9, nesterov=True)\n",
    "model.compile(loss='categorical_crossentropy', optimizer='adam', metrics=['accuracy'])"
   ]
  },
  {
   "cell_type": "code",
   "execution_count": 13,
   "id": "f836664a",
   "metadata": {
    "execution": {
     "iopub.execute_input": "2023-02-23T05:12:44.889267Z",
     "iopub.status.busy": "2023-02-23T05:12:44.888766Z",
     "iopub.status.idle": "2023-02-23T05:13:22.554903Z",
     "shell.execute_reply": "2023-02-23T05:13:22.553344Z"
    },
    "id": "dd9caaa2",
    "outputId": "e1a9fb02-ea70-49ea-c742-de37f795d0c6",
    "papermill": {
     "duration": 37.679106,
     "end_time": "2023-02-23T05:13:22.558445",
     "exception": false,
     "start_time": "2023-02-23T05:12:44.879339",
     "status": "completed"
    },
    "tags": []
   },
   "outputs": [
    {
     "name": "stdout",
     "output_type": "stream",
     "text": [
      "Epoch 1/200\n",
      "81/81 [==============================] - 1s 2ms/step - loss: 3.6136 - accuracy: 0.0543\n",
      "Epoch 2/200\n",
      "81/81 [==============================] - 0s 2ms/step - loss: 3.4736 - accuracy: 0.1259\n",
      "Epoch 3/200\n",
      "81/81 [==============================] - 0s 2ms/step - loss: 3.2848 - accuracy: 0.1753\n",
      "Epoch 4/200\n",
      "81/81 [==============================] - 0s 2ms/step - loss: 3.0604 - accuracy: 0.2346\n",
      "Epoch 5/200\n",
      "81/81 [==============================] - 0s 2ms/step - loss: 2.8305 - accuracy: 0.2716\n",
      "Epoch 6/200\n",
      "81/81 [==============================] - 0s 2ms/step - loss: 2.5375 - accuracy: 0.3432\n",
      "Epoch 7/200\n",
      "81/81 [==============================] - 0s 2ms/step - loss: 2.3111 - accuracy: 0.4025\n",
      "Epoch 8/200\n",
      "81/81 [==============================] - 0s 2ms/step - loss: 2.1470 - accuracy: 0.4568\n",
      "Epoch 9/200\n",
      "81/81 [==============================] - 0s 2ms/step - loss: 1.9539 - accuracy: 0.4864\n",
      "Epoch 10/200\n",
      "81/81 [==============================] - 0s 2ms/step - loss: 1.7000 - accuracy: 0.6025\n",
      "Epoch 11/200\n",
      "81/81 [==============================] - 0s 2ms/step - loss: 1.5961 - accuracy: 0.6148\n",
      "Epoch 12/200\n",
      "81/81 [==============================] - 0s 2ms/step - loss: 1.4055 - accuracy: 0.6593\n",
      "Epoch 13/200\n",
      "81/81 [==============================] - 0s 2ms/step - loss: 1.3002 - accuracy: 0.6963\n",
      "Epoch 14/200\n",
      "81/81 [==============================] - 0s 2ms/step - loss: 1.1978 - accuracy: 0.6963\n",
      "Epoch 15/200\n",
      "81/81 [==============================] - 0s 2ms/step - loss: 1.0640 - accuracy: 0.7407\n",
      "Epoch 16/200\n",
      "81/81 [==============================] - 0s 2ms/step - loss: 1.0210 - accuracy: 0.7506\n",
      "Epoch 17/200\n",
      "81/81 [==============================] - 0s 2ms/step - loss: 0.9202 - accuracy: 0.7679\n",
      "Epoch 18/200\n",
      "81/81 [==============================] - 0s 2ms/step - loss: 0.8287 - accuracy: 0.8099\n",
      "Epoch 19/200\n",
      "81/81 [==============================] - 0s 2ms/step - loss: 0.7831 - accuracy: 0.8198\n",
      "Epoch 20/200\n",
      "81/81 [==============================] - 0s 2ms/step - loss: 0.7525 - accuracy: 0.8148\n",
      "Epoch 21/200\n",
      "81/81 [==============================] - 0s 2ms/step - loss: 0.7355 - accuracy: 0.8123\n",
      "Epoch 22/200\n",
      "81/81 [==============================] - 0s 2ms/step - loss: 0.6728 - accuracy: 0.8272\n",
      "Epoch 23/200\n",
      "81/81 [==============================] - 0s 2ms/step - loss: 0.6377 - accuracy: 0.8321\n",
      "Epoch 24/200\n",
      "81/81 [==============================] - 0s 2ms/step - loss: 0.5440 - accuracy: 0.8741\n",
      "Epoch 25/200\n",
      "81/81 [==============================] - 0s 2ms/step - loss: 0.4673 - accuracy: 0.8889\n",
      "Epoch 26/200\n",
      "81/81 [==============================] - 0s 2ms/step - loss: 0.5191 - accuracy: 0.8469\n",
      "Epoch 27/200\n",
      "81/81 [==============================] - 0s 2ms/step - loss: 0.5168 - accuracy: 0.8840\n",
      "Epoch 28/200\n",
      "81/81 [==============================] - 0s 2ms/step - loss: 0.4686 - accuracy: 0.8864\n",
      "Epoch 29/200\n",
      "81/81 [==============================] - 0s 2ms/step - loss: 0.4586 - accuracy: 0.8790\n",
      "Epoch 30/200\n",
      "81/81 [==============================] - 0s 2ms/step - loss: 0.4126 - accuracy: 0.8963\n",
      "Epoch 31/200\n",
      "81/81 [==============================] - 0s 2ms/step - loss: 0.4247 - accuracy: 0.8889\n",
      "Epoch 32/200\n",
      "81/81 [==============================] - 0s 2ms/step - loss: 0.4080 - accuracy: 0.8840\n",
      "Epoch 33/200\n",
      "81/81 [==============================] - 0s 2ms/step - loss: 0.3659 - accuracy: 0.8988\n",
      "Epoch 34/200\n",
      "81/81 [==============================] - 0s 2ms/step - loss: 0.4184 - accuracy: 0.8889\n",
      "Epoch 35/200\n",
      "81/81 [==============================] - 0s 2ms/step - loss: 0.3590 - accuracy: 0.9062\n",
      "Epoch 36/200\n",
      "81/81 [==============================] - 0s 2ms/step - loss: 0.3597 - accuracy: 0.9185\n",
      "Epoch 37/200\n",
      "81/81 [==============================] - 0s 2ms/step - loss: 0.3258 - accuracy: 0.9111\n",
      "Epoch 38/200\n",
      "81/81 [==============================] - 0s 2ms/step - loss: 0.3448 - accuracy: 0.9111\n",
      "Epoch 39/200\n",
      "81/81 [==============================] - 0s 2ms/step - loss: 0.2794 - accuracy: 0.9259\n",
      "Epoch 40/200\n",
      "81/81 [==============================] - 0s 2ms/step - loss: 0.3334 - accuracy: 0.9012\n",
      "Epoch 41/200\n",
      "81/81 [==============================] - 0s 2ms/step - loss: 0.3310 - accuracy: 0.9037\n",
      "Epoch 42/200\n",
      "81/81 [==============================] - 0s 2ms/step - loss: 0.2302 - accuracy: 0.9407\n",
      "Epoch 43/200\n",
      "81/81 [==============================] - 0s 2ms/step - loss: 0.2965 - accuracy: 0.9185\n",
      "Epoch 44/200\n",
      "81/81 [==============================] - 0s 2ms/step - loss: 0.2444 - accuracy: 0.9333\n",
      "Epoch 45/200\n",
      "81/81 [==============================] - 0s 2ms/step - loss: 0.2701 - accuracy: 0.9210\n",
      "Epoch 46/200\n",
      "81/81 [==============================] - 0s 2ms/step - loss: 0.3027 - accuracy: 0.9309\n",
      "Epoch 47/200\n",
      "81/81 [==============================] - 0s 3ms/step - loss: 0.2240 - accuracy: 0.9531\n",
      "Epoch 48/200\n",
      "81/81 [==============================] - 0s 2ms/step - loss: 0.2129 - accuracy: 0.9432\n",
      "Epoch 49/200\n",
      "81/81 [==============================] - 0s 2ms/step - loss: 0.2348 - accuracy: 0.9407\n",
      "Epoch 50/200\n",
      "81/81 [==============================] - 0s 2ms/step - loss: 0.2572 - accuracy: 0.9358\n",
      "Epoch 51/200\n",
      "81/81 [==============================] - 0s 2ms/step - loss: 0.2377 - accuracy: 0.9259\n",
      "Epoch 52/200\n",
      "81/81 [==============================] - 0s 2ms/step - loss: 0.2324 - accuracy: 0.9358\n",
      "Epoch 53/200\n",
      "81/81 [==============================] - 0s 2ms/step - loss: 0.2190 - accuracy: 0.9407\n",
      "Epoch 54/200\n",
      "81/81 [==============================] - 0s 2ms/step - loss: 0.2175 - accuracy: 0.9432\n",
      "Epoch 55/200\n",
      "81/81 [==============================] - 0s 2ms/step - loss: 0.2259 - accuracy: 0.9160\n",
      "Epoch 56/200\n",
      "81/81 [==============================] - 0s 2ms/step - loss: 0.2127 - accuracy: 0.9481\n",
      "Epoch 57/200\n",
      "81/81 [==============================] - 0s 2ms/step - loss: 0.1997 - accuracy: 0.9457\n",
      "Epoch 58/200\n",
      "81/81 [==============================] - 0s 2ms/step - loss: 0.1975 - accuracy: 0.9407\n",
      "Epoch 59/200\n",
      "81/81 [==============================] - 0s 2ms/step - loss: 0.2083 - accuracy: 0.9333\n",
      "Epoch 60/200\n",
      "81/81 [==============================] - 0s 2ms/step - loss: 0.2078 - accuracy: 0.9407\n",
      "Epoch 61/200\n",
      "81/81 [==============================] - 0s 2ms/step - loss: 0.1838 - accuracy: 0.9432\n",
      "Epoch 62/200\n",
      "81/81 [==============================] - 0s 2ms/step - loss: 0.1736 - accuracy: 0.9506\n",
      "Epoch 63/200\n",
      "81/81 [==============================] - 0s 2ms/step - loss: 0.2022 - accuracy: 0.9407\n",
      "Epoch 64/200\n",
      "81/81 [==============================] - 0s 2ms/step - loss: 0.1883 - accuracy: 0.9481\n",
      "Epoch 65/200\n",
      "81/81 [==============================] - 0s 2ms/step - loss: 0.1416 - accuracy: 0.9654\n",
      "Epoch 66/200\n",
      "81/81 [==============================] - 0s 2ms/step - loss: 0.1826 - accuracy: 0.9531\n",
      "Epoch 67/200\n",
      "81/81 [==============================] - 0s 2ms/step - loss: 0.1590 - accuracy: 0.9605\n",
      "Epoch 68/200\n",
      "81/81 [==============================] - 0s 2ms/step - loss: 0.1992 - accuracy: 0.9481\n",
      "Epoch 69/200\n",
      "81/81 [==============================] - 0s 2ms/step - loss: 0.1426 - accuracy: 0.9556\n",
      "Epoch 70/200\n",
      "81/81 [==============================] - 0s 2ms/step - loss: 0.1475 - accuracy: 0.9506\n",
      "Epoch 71/200\n",
      "81/81 [==============================] - 0s 2ms/step - loss: 0.1653 - accuracy: 0.9506\n",
      "Epoch 72/200\n",
      "81/81 [==============================] - 0s 2ms/step - loss: 0.1344 - accuracy: 0.9580\n",
      "Epoch 73/200\n",
      "81/81 [==============================] - 0s 2ms/step - loss: 0.1578 - accuracy: 0.9481\n",
      "Epoch 74/200\n",
      "81/81 [==============================] - 0s 2ms/step - loss: 0.1274 - accuracy: 0.9679\n",
      "Epoch 75/200\n",
      "81/81 [==============================] - 0s 2ms/step - loss: 0.1598 - accuracy: 0.9457\n",
      "Epoch 76/200\n",
      "81/81 [==============================] - 0s 2ms/step - loss: 0.1740 - accuracy: 0.9309\n",
      "Epoch 77/200\n",
      "81/81 [==============================] - 0s 2ms/step - loss: 0.1240 - accuracy: 0.9605\n",
      "Epoch 78/200\n",
      "81/81 [==============================] - 0s 2ms/step - loss: 0.1306 - accuracy: 0.9580\n",
      "Epoch 79/200\n",
      "81/81 [==============================] - 0s 2ms/step - loss: 0.1419 - accuracy: 0.9605\n",
      "Epoch 80/200\n",
      "81/81 [==============================] - 0s 2ms/step - loss: 0.1218 - accuracy: 0.9679\n",
      "Epoch 81/200\n",
      "81/81 [==============================] - 0s 2ms/step - loss: 0.1187 - accuracy: 0.9630\n",
      "Epoch 82/200\n",
      "81/81 [==============================] - 0s 2ms/step - loss: 0.1383 - accuracy: 0.9506\n",
      "Epoch 83/200\n",
      "81/81 [==============================] - 0s 2ms/step - loss: 0.1569 - accuracy: 0.9481\n",
      "Epoch 84/200\n",
      "81/81 [==============================] - 0s 2ms/step - loss: 0.1289 - accuracy: 0.9605\n",
      "Epoch 85/200\n",
      "81/81 [==============================] - 0s 2ms/step - loss: 0.1383 - accuracy: 0.9531\n",
      "Epoch 86/200\n",
      "81/81 [==============================] - 0s 2ms/step - loss: 0.0971 - accuracy: 0.9679\n",
      "Epoch 87/200\n",
      "81/81 [==============================] - 0s 3ms/step - loss: 0.1353 - accuracy: 0.9605\n",
      "Epoch 88/200\n",
      "81/81 [==============================] - 0s 2ms/step - loss: 0.1068 - accuracy: 0.9654\n",
      "Epoch 89/200\n",
      "81/81 [==============================] - 0s 2ms/step - loss: 0.1142 - accuracy: 0.9654\n",
      "Epoch 90/200\n",
      "81/81 [==============================] - 0s 2ms/step - loss: 0.1210 - accuracy: 0.9630\n",
      "Epoch 91/200\n",
      "81/81 [==============================] - 0s 2ms/step - loss: 0.1283 - accuracy: 0.9679\n",
      "Epoch 92/200\n",
      "81/81 [==============================] - 0s 2ms/step - loss: 0.1069 - accuracy: 0.9728\n",
      "Epoch 93/200\n",
      "81/81 [==============================] - 0s 2ms/step - loss: 0.1280 - accuracy: 0.9654\n",
      "Epoch 94/200\n",
      "81/81 [==============================] - 0s 2ms/step - loss: 0.0919 - accuracy: 0.9728\n",
      "Epoch 95/200\n",
      "81/81 [==============================] - 0s 2ms/step - loss: 0.1054 - accuracy: 0.9728\n",
      "Epoch 96/200\n",
      "81/81 [==============================] - 0s 2ms/step - loss: 0.0958 - accuracy: 0.9704\n",
      "Epoch 97/200\n",
      "81/81 [==============================] - 0s 2ms/step - loss: 0.1400 - accuracy: 0.9630\n",
      "Epoch 98/200\n",
      "81/81 [==============================] - 0s 2ms/step - loss: 0.1409 - accuracy: 0.9531\n",
      "Epoch 99/200\n",
      "81/81 [==============================] - 0s 2ms/step - loss: 0.1149 - accuracy: 0.9630\n",
      "Epoch 100/200\n",
      "81/81 [==============================] - 0s 2ms/step - loss: 0.1143 - accuracy: 0.9704\n",
      "Epoch 101/200\n",
      "81/81 [==============================] - 0s 2ms/step - loss: 0.0963 - accuracy: 0.9728\n",
      "Epoch 102/200\n",
      "81/81 [==============================] - 0s 2ms/step - loss: 0.1397 - accuracy: 0.9556\n",
      "Epoch 103/200\n",
      "81/81 [==============================] - 0s 2ms/step - loss: 0.1061 - accuracy: 0.9605\n",
      "Epoch 104/200\n",
      "81/81 [==============================] - 0s 2ms/step - loss: 0.0933 - accuracy: 0.9753\n",
      "Epoch 105/200\n",
      "81/81 [==============================] - 0s 2ms/step - loss: 0.1105 - accuracy: 0.9704\n",
      "Epoch 106/200\n",
      "81/81 [==============================] - 0s 2ms/step - loss: 0.0838 - accuracy: 0.9753\n",
      "Epoch 107/200\n",
      "81/81 [==============================] - 0s 3ms/step - loss: 0.0982 - accuracy: 0.9679\n",
      "Epoch 108/200\n",
      "81/81 [==============================] - 0s 2ms/step - loss: 0.0808 - accuracy: 0.9679\n",
      "Epoch 109/200\n",
      "81/81 [==============================] - 0s 2ms/step - loss: 0.1242 - accuracy: 0.9605\n",
      "Epoch 110/200\n",
      "81/81 [==============================] - 0s 3ms/step - loss: 0.1259 - accuracy: 0.9630\n",
      "Epoch 111/200\n",
      "81/81 [==============================] - 0s 2ms/step - loss: 0.1027 - accuracy: 0.9704\n",
      "Epoch 112/200\n",
      "81/81 [==============================] - 0s 2ms/step - loss: 0.1112 - accuracy: 0.9679\n",
      "Epoch 113/200\n",
      "81/81 [==============================] - 0s 2ms/step - loss: 0.0989 - accuracy: 0.9679\n",
      "Epoch 114/200\n",
      "81/81 [==============================] - 0s 2ms/step - loss: 0.0944 - accuracy: 0.9778\n",
      "Epoch 115/200\n",
      "81/81 [==============================] - 0s 2ms/step - loss: 0.1029 - accuracy: 0.9605\n",
      "Epoch 116/200\n",
      "81/81 [==============================] - 0s 2ms/step - loss: 0.0962 - accuracy: 0.9679\n",
      "Epoch 117/200\n",
      "81/81 [==============================] - 0s 2ms/step - loss: 0.1131 - accuracy: 0.9654\n",
      "Epoch 118/200\n",
      "81/81 [==============================] - 0s 2ms/step - loss: 0.0941 - accuracy: 0.9827\n",
      "Epoch 119/200\n",
      "81/81 [==============================] - 0s 2ms/step - loss: 0.0847 - accuracy: 0.9753\n",
      "Epoch 120/200\n",
      "81/81 [==============================] - 0s 2ms/step - loss: 0.1190 - accuracy: 0.9654\n",
      "Epoch 121/200\n",
      "81/81 [==============================] - 0s 2ms/step - loss: 0.0636 - accuracy: 0.9802\n",
      "Epoch 122/200\n",
      "81/81 [==============================] - 0s 2ms/step - loss: 0.1253 - accuracy: 0.9704\n",
      "Epoch 123/200\n",
      "81/81 [==============================] - 0s 2ms/step - loss: 0.0991 - accuracy: 0.9679\n",
      "Epoch 124/200\n",
      "81/81 [==============================] - 0s 2ms/step - loss: 0.1255 - accuracy: 0.9580\n",
      "Epoch 125/200\n",
      "81/81 [==============================] - 0s 2ms/step - loss: 0.0781 - accuracy: 0.9728\n",
      "Epoch 126/200\n",
      "81/81 [==============================] - 0s 2ms/step - loss: 0.0828 - accuracy: 0.9704\n",
      "Epoch 127/200\n",
      "81/81 [==============================] - 0s 2ms/step - loss: 0.0826 - accuracy: 0.9753\n",
      "Epoch 128/200\n",
      "81/81 [==============================] - 0s 2ms/step - loss: 0.1005 - accuracy: 0.9852\n",
      "Epoch 129/200\n",
      "81/81 [==============================] - 0s 2ms/step - loss: 0.0535 - accuracy: 0.9852\n",
      "Epoch 130/200\n",
      "81/81 [==============================] - 0s 2ms/step - loss: 0.0874 - accuracy: 0.9654\n",
      "Epoch 131/200\n",
      "81/81 [==============================] - 0s 2ms/step - loss: 0.0816 - accuracy: 0.9728\n",
      "Epoch 132/200\n",
      "81/81 [==============================] - 0s 2ms/step - loss: 0.1143 - accuracy: 0.9630\n",
      "Epoch 133/200\n",
      "81/81 [==============================] - 0s 2ms/step - loss: 0.1165 - accuracy: 0.9679\n",
      "Epoch 134/200\n",
      "81/81 [==============================] - 0s 2ms/step - loss: 0.0836 - accuracy: 0.9753\n",
      "Epoch 135/200\n",
      "81/81 [==============================] - 0s 2ms/step - loss: 0.0975 - accuracy: 0.9753\n",
      "Epoch 136/200\n",
      "81/81 [==============================] - 0s 3ms/step - loss: 0.1253 - accuracy: 0.9605\n",
      "Epoch 137/200\n",
      "81/81 [==============================] - 0s 3ms/step - loss: 0.0874 - accuracy: 0.9704\n",
      "Epoch 138/200\n",
      "81/81 [==============================] - 0s 2ms/step - loss: 0.0721 - accuracy: 0.9802\n",
      "Epoch 139/200\n",
      "81/81 [==============================] - 0s 2ms/step - loss: 0.0993 - accuracy: 0.9753\n",
      "Epoch 140/200\n",
      "81/81 [==============================] - 0s 3ms/step - loss: 0.0795 - accuracy: 0.9728\n",
      "Epoch 141/200\n",
      "81/81 [==============================] - 0s 2ms/step - loss: 0.0957 - accuracy: 0.9728\n",
      "Epoch 142/200\n",
      "81/81 [==============================] - 0s 2ms/step - loss: 0.0914 - accuracy: 0.9728\n",
      "Epoch 143/200\n",
      "81/81 [==============================] - 0s 2ms/step - loss: 0.0679 - accuracy: 0.9802\n",
      "Epoch 144/200\n",
      "81/81 [==============================] - 0s 2ms/step - loss: 0.0654 - accuracy: 0.9802\n",
      "Epoch 145/200\n",
      "81/81 [==============================] - 0s 2ms/step - loss: 0.0734 - accuracy: 0.9852\n",
      "Epoch 146/200\n",
      "81/81 [==============================] - 0s 2ms/step - loss: 0.1020 - accuracy: 0.9630\n",
      "Epoch 147/200\n",
      "81/81 [==============================] - 0s 2ms/step - loss: 0.1036 - accuracy: 0.9654\n",
      "Epoch 148/200\n",
      "81/81 [==============================] - 0s 2ms/step - loss: 0.0893 - accuracy: 0.9704\n",
      "Epoch 149/200\n",
      "81/81 [==============================] - 0s 2ms/step - loss: 0.0591 - accuracy: 0.9877\n",
      "Epoch 150/200\n",
      "81/81 [==============================] - 0s 2ms/step - loss: 0.0726 - accuracy: 0.9778\n",
      "Epoch 151/200\n",
      "81/81 [==============================] - 0s 2ms/step - loss: 0.0931 - accuracy: 0.9630\n",
      "Epoch 152/200\n",
      "81/81 [==============================] - 0s 2ms/step - loss: 0.1536 - accuracy: 0.9506\n",
      "Epoch 153/200\n",
      "81/81 [==============================] - 0s 2ms/step - loss: 0.0930 - accuracy: 0.9778\n",
      "Epoch 154/200\n",
      "81/81 [==============================] - 0s 2ms/step - loss: 0.0995 - accuracy: 0.9630\n",
      "Epoch 155/200\n",
      "81/81 [==============================] - 0s 2ms/step - loss: 0.0607 - accuracy: 0.9802\n",
      "Epoch 156/200\n",
      "81/81 [==============================] - 0s 2ms/step - loss: 0.0754 - accuracy: 0.9778\n",
      "Epoch 157/200\n",
      "81/81 [==============================] - 0s 2ms/step - loss: 0.0520 - accuracy: 0.9852\n",
      "Epoch 158/200\n",
      "81/81 [==============================] - 0s 3ms/step - loss: 0.0712 - accuracy: 0.9778\n",
      "Epoch 159/200\n",
      "81/81 [==============================] - 0s 2ms/step - loss: 0.0817 - accuracy: 0.9728\n",
      "Epoch 160/200\n",
      "81/81 [==============================] - 0s 2ms/step - loss: 0.1164 - accuracy: 0.9728\n",
      "Epoch 161/200\n",
      "81/81 [==============================] - 0s 2ms/step - loss: 0.0821 - accuracy: 0.9753\n",
      "Epoch 162/200\n",
      "81/81 [==============================] - 0s 2ms/step - loss: 0.0605 - accuracy: 0.9802\n",
      "Epoch 163/200\n",
      "81/81 [==============================] - 0s 2ms/step - loss: 0.0524 - accuracy: 0.9802\n",
      "Epoch 164/200\n",
      "81/81 [==============================] - 0s 2ms/step - loss: 0.0452 - accuracy: 0.9852\n",
      "Epoch 165/200\n",
      "81/81 [==============================] - 0s 2ms/step - loss: 0.0972 - accuracy: 0.9679\n",
      "Epoch 166/200\n",
      "81/81 [==============================] - 0s 2ms/step - loss: 0.0902 - accuracy: 0.9679\n",
      "Epoch 167/200\n",
      "81/81 [==============================] - 0s 2ms/step - loss: 0.1203 - accuracy: 0.9630\n",
      "Epoch 168/200\n",
      "81/81 [==============================] - 0s 2ms/step - loss: 0.0579 - accuracy: 0.9827\n",
      "Epoch 169/200\n",
      "81/81 [==============================] - 0s 2ms/step - loss: 0.0879 - accuracy: 0.9728\n",
      "Epoch 170/200\n",
      "81/81 [==============================] - 0s 2ms/step - loss: 0.0604 - accuracy: 0.9802\n",
      "Epoch 171/200\n",
      "81/81 [==============================] - 0s 2ms/step - loss: 0.0945 - accuracy: 0.9728\n",
      "Epoch 172/200\n",
      "81/81 [==============================] - 0s 2ms/step - loss: 0.0775 - accuracy: 0.9728\n",
      "Epoch 173/200\n",
      "81/81 [==============================] - 0s 2ms/step - loss: 0.0583 - accuracy: 0.9802\n",
      "Epoch 174/200\n",
      "81/81 [==============================] - 0s 2ms/step - loss: 0.0602 - accuracy: 0.9877\n",
      "Epoch 175/200\n",
      "81/81 [==============================] - 0s 2ms/step - loss: 0.0573 - accuracy: 0.9802\n",
      "Epoch 176/200\n",
      "81/81 [==============================] - 0s 2ms/step - loss: 0.0717 - accuracy: 0.9753\n",
      "Epoch 177/200\n",
      "81/81 [==============================] - 0s 2ms/step - loss: 0.1128 - accuracy: 0.9630\n",
      "Epoch 178/200\n",
      "81/81 [==============================] - 0s 2ms/step - loss: 0.0673 - accuracy: 0.9654\n",
      "Epoch 179/200\n",
      "81/81 [==============================] - 0s 2ms/step - loss: 0.0716 - accuracy: 0.9728\n",
      "Epoch 180/200\n",
      "81/81 [==============================] - 0s 2ms/step - loss: 0.0659 - accuracy: 0.9778\n",
      "Epoch 181/200\n",
      "81/81 [==============================] - 0s 2ms/step - loss: 0.0671 - accuracy: 0.9827\n",
      "Epoch 182/200\n",
      "81/81 [==============================] - 0s 2ms/step - loss: 0.0840 - accuracy: 0.9778\n",
      "Epoch 183/200\n",
      "81/81 [==============================] - 0s 2ms/step - loss: 0.0628 - accuracy: 0.9827\n",
      "Epoch 184/200\n",
      "81/81 [==============================] - 0s 2ms/step - loss: 0.0781 - accuracy: 0.9802\n",
      "Epoch 185/200\n",
      "81/81 [==============================] - 0s 2ms/step - loss: 0.1037 - accuracy: 0.9753\n",
      "Epoch 186/200\n",
      "81/81 [==============================] - 0s 2ms/step - loss: 0.0830 - accuracy: 0.9753\n",
      "Epoch 187/200\n",
      "81/81 [==============================] - 0s 2ms/step - loss: 0.0463 - accuracy: 0.9802\n",
      "Epoch 188/200\n",
      "81/81 [==============================] - 0s 2ms/step - loss: 0.0528 - accuracy: 0.9802\n",
      "Epoch 189/200\n",
      "81/81 [==============================] - 0s 2ms/step - loss: 0.0570 - accuracy: 0.9802\n",
      "Epoch 190/200\n",
      "81/81 [==============================] - 0s 2ms/step - loss: 0.0593 - accuracy: 0.9778\n",
      "Epoch 191/200\n",
      "81/81 [==============================] - 0s 2ms/step - loss: 0.0761 - accuracy: 0.9778\n",
      "Epoch 192/200\n",
      "81/81 [==============================] - 0s 2ms/step - loss: 0.0523 - accuracy: 0.9827\n",
      "Epoch 193/200\n",
      "81/81 [==============================] - 0s 2ms/step - loss: 0.0898 - accuracy: 0.9778\n",
      "Epoch 194/200\n",
      "81/81 [==============================] - 0s 2ms/step - loss: 0.0674 - accuracy: 0.9728\n",
      "Epoch 195/200\n",
      "81/81 [==============================] - 0s 2ms/step - loss: 0.0676 - accuracy: 0.9753\n",
      "Epoch 196/200\n",
      "81/81 [==============================] - 0s 2ms/step - loss: 0.0754 - accuracy: 0.9728\n",
      "Epoch 197/200\n",
      "81/81 [==============================] - 0s 2ms/step - loss: 0.0806 - accuracy: 0.9753\n",
      "Epoch 198/200\n",
      "81/81 [==============================] - 0s 2ms/step - loss: 0.0497 - accuracy: 0.9827\n",
      "Epoch 199/200\n",
      "81/81 [==============================] - 0s 2ms/step - loss: 0.0485 - accuracy: 0.9852\n",
      "Epoch 200/200\n",
      "81/81 [==============================] - 0s 2ms/step - loss: 0.0705 - accuracy: 0.9753\n",
      "model created\n"
     ]
    }
   ],
   "source": [
    "#fitting and saving the model \n",
    "hist = model.fit(np.array(train_x), np.array(train_y), epochs=200, batch_size=5, verbose=1)\n",
    "model.save('chatbot_model.h5', hist)\n",
    "\n",
    "print(\"model created\")\n"
   ]
  },
  {
   "cell_type": "markdown",
   "id": "653397e1",
   "metadata": {
    "papermill": {
     "duration": 0.085781,
     "end_time": "2023-02-23T05:13:22.734072",
     "exception": false,
     "start_time": "2023-02-23T05:13:22.648291",
     "status": "completed"
    },
    "tags": []
   },
   "source": [
    "# FOR PREDICTING RESPONSE\n",
    "### **You have to add or run this below script by loading model**"
   ]
  },
  {
   "cell_type": "markdown",
   "id": "7935cde8",
   "metadata": {
    "papermill": {
     "duration": 0.083854,
     "end_time": "2023-02-23T05:13:22.901928",
     "exception": false,
     "start_time": "2023-02-23T05:13:22.818074",
     "status": "completed"
    },
    "tags": []
   },
   "source": [
    "### **For loading saved model**\n",
    "//\n",
    "from keras.models import load_model\n",
    "\n",
    "model = load_model('chatbot_model.h5')\n",
    "//\n",
    "### **Predict the response**\n",
    "To predict the sentences and get a response from the user to let us create a new file ‘chatapp.py’.\n",
    "- We will load the trained model and then use a graphical user interface that will predict the response from the bot. The model will only tell us the class it belongs to, so we will implement some functions which will identify the class and then retrieve us a random response from the list of responses.\n",
    "- Again we import the necessary packages and load the ‘words.pkl’ and ‘classes.pkl’ pickle files which we have created when we trained our model.\n",
    "\n",
    "//---\n",
    "\n",
    "intents = json.loads(open('/kaggle/input/chatbot-dataset/intents.json').read())\n",
    "\n",
    "words = pickle.load(open('words.pkl','rb'))\n",
    "\n",
    "classes = pickle.load(open('classes.pkl','rb'))\n",
    "\n",
    "//---\n",
    "\n",
    "**To predict the class, we will need to provide input in the same way as we did while training. So we will create some functions that will perform text preprocessing and then predict the class**\n",
    "\n",
    "//----\n",
    "\n",
    "#Utility Methods\n",
    "\n",
    "def clean_up_sentence(sentence):\n",
    "    # tokenize the pattern - split words into array\n",
    "    \n",
    "    sentence_words = nltk.word_tokenize(sentence)\n",
    "    #print(sentence_words)\n",
    "    # stem each word - create short form for word\n",
    "    \n",
    "    sentence_words = [lemmatizer.lemmatize(word.lower()) for word in sentence_words]\n",
    "    #print(sentence_words)\n",
    "    \n",
    "    return sentence_words\n",
    "#return bag of words array: 0 or 1 for each word in the bag that exists in the sentence\n",
    "\n",
    "def bow(sentence, words, show_details=True):\n",
    "    # tokenize the pattern\n",
    "    \n",
    "    sentence_words = clean_up_sentence(sentence)\n",
    "    #print(sentence_words)\n",
    "    \n",
    "    # bag of words - matrix of N words, vocabulary matrix\n",
    "    \n",
    "    bag = [0]*len(words) \n",
    "    #print(bag)\n",
    "    \n",
    "    for s in sentence_words:  \n",
    "        for i,w in enumerate(words):\n",
    "            if w == s: \n",
    "                # assign 1 if current word is in the vocabulary position\n",
    "                bag[i] = 1\n",
    "                if show_details:\n",
    "                    print (\"found in bag: %s\" % w)\n",
    "                #print (\"found in bag: %s\" % w)\n",
    "    #print(bag)\n",
    "    return(np.array(bag))\n",
    "    \n",
    "def predict_class(sentence, model):\n",
    "    # filter out predictions below a threshold\n",
    "    \n",
    "    p = bow(sentence, words,show_details=False)\n",
    "    #print(p)\n",
    "    \n",
    "    res = model.predict(np.array([p]))[0]\n",
    "    #print(res)\n",
    "    \n",
    "    ERROR_THRESHOLD = 0.25\n",
    "    \n",
    "    results = [[i,r] for i,r in enumerate(res) if r>ERROR_THRESHOLD]\n",
    "    #print(results)\n",
    "    # sort by strength of probability\n",
    "    \n",
    "    results.sort(key=lambda x: x[1], reverse=True)\n",
    "    #print(results)\n",
    "    \n",
    "    return_list = []\n",
    "    \n",
    "    for r in results:\n",
    "        return_list.append({\"intent\": classes[r[0]], \"probability\": str(r[1])})\n",
    "    \n",
    "    return return_list\n",
    "    #print(return_list)\n",
    "\n",
    "//----\n",
    "\n",
    "**After predicting the class, we will get a random response from the list of intents:**\n",
    "\n",
    "//----\n",
    "\n",
    "def getResponse(ints, intents_json):\n",
    "    \n",
    "    tag = ints[0]['intent']\n",
    "    #print(tag)\n",
    "    \n",
    "    list_of_intents = intents_json['intents']\n",
    "    #print(list_of_intents)\n",
    "    \n",
    "    for i in list_of_intents:\n",
    "        if(i['tag']== tag):\n",
    "            result = random.choice(i['responses'])\n",
    "            break\n",
    "    return result\n",
    "    \n",
    "def chatbot_response(text):\n",
    "    ints = predict_class(text, model)\n",
    "    #print(ints)\n",
    "    \n",
    "    res = getResponse(ints, intents)\n",
    "    #print(res)\n",
    "    return res\n",
    "    \n",
    "//---  \n",
    "**Enter you queries**   \n",
    "//----   \n",
    "start = True\n",
    "\n",
    "while start:\n",
    "\n",
    "    query = input('Enter Message:')\n",
    "    if query in ['quit','exit','bye']:\n",
    "        start = False\n",
    "        continue\n",
    "    try:\n",
    "        res = chatbot_response(query)\n",
    "        print(res)\n",
    "    except:\n",
    "        print('You may need to rephrase your question.')\n",
    "//-----"
   ]
  },
  {
   "cell_type": "code",
   "execution_count": null,
   "id": "0365cea2",
   "metadata": {
    "papermill": {
     "duration": 0.08306,
     "end_time": "2023-02-23T05:13:23.069166",
     "exception": false,
     "start_time": "2023-02-23T05:13:22.986106",
     "status": "completed"
    },
    "tags": []
   },
   "outputs": [],
   "source": []
  }
 ],
 "metadata": {
  "kernelspec": {
   "display_name": "Python 3",
   "language": "python",
   "name": "python3"
  },
  "language_info": {
   "codemirror_mode": {
    "name": "ipython",
    "version": 3
   },
   "file_extension": ".py",
   "mimetype": "text/x-python",
   "name": "python",
   "nbconvert_exporter": "python",
   "pygments_lexer": "ipython3",
   "version": "3.7.12"
  },
  "papermill": {
   "default_parameters": {},
   "duration": 65.361653,
   "end_time": "2023-02-23T05:13:25.834630",
   "environment_variables": {},
   "exception": null,
   "input_path": "__notebook__.ipynb",
   "output_path": "__notebook__.ipynb",
   "parameters": {},
   "start_time": "2023-02-23T05:12:20.472977",
   "version": "2.3.4"
  }
 },
 "nbformat": 4,
 "nbformat_minor": 5
}
